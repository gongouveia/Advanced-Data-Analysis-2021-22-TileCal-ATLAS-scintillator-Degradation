{
  "cells": [
    {
      "cell_type": "markdown",
      "metadata": {
        "id": "ayanHXFjLDL7"
      },
      "source": [
        "# **Machine Learning for detector design, modelling the TileCal degradation history as a use case**\n",
        "\n",
        "The central hadronic calorimeter of the ATLAS/LHC experiment, TileCal, plays a major role in the measurement of jets, missing energy and in the trigger decision. As such, the good operation and performance of this system have been crucial to the wealth of scientific output of ATLAS so far.\n",
        "\n",
        "Learn more about TileCal [here](https://iopscience.iop.org/article/10.1088/1748-0221/8/01/P01005/pdf).\n",
        "\n",
        "\n",
        "\n",
        "\n",
        "<font color='green'>It uses iron plates as absorber and plastic scintillating tiles\n",
        "as the active material. Scintillation light produced in the\n",
        "tiles is transmitted by wavelength shifting fibres to\n",
        "photomultiplier tubes (PMTs). The resulting electronic\n",
        "signals from the approximately 10000 PMTs</font>\n",
        "\n",
        "<img src=https://lip.pt/~rute/TileAgeing/ATLAS.jpeg width=\"650\">\n",
        "\n",
        "\n",
        "[APONTAMENTO](https://indico.fnal.gov/event/46746/contributions/210068/attachments/141168/177706/cpadTalk_20210318_final2.pdf)\n"
      ],
      "id": "ayanHXFjLDL7"
    },
    {
      "cell_type": "markdown",
      "metadata": {
        "id": "1e2Keug9Dsq_"
      },
      "source": [
        "## TileCal working principle\n",
        "\n",
        "TileCal employs plastic scintillators to measure the energy of particles: scintillating light is emitted by the crossing of ionising particles and the light is collected by wavelength-shifting optical fibres from the tile's edges and guided to photomultipliers for the signal readout.\n",
        "\n",
        "<img src=https://lip.pt/~rute/TileAgeing/tileModule.jpeg width=\"450\">\n",
        "\n",
        "## TileCal geometry\n",
        "\n",
        "- 64 wedged modules ($\\Delta\\phi$ = 0.1)\n",
        "- Fibres from each tile are grouped together to fine the unit readout cell:\n",
        "  - A, B(C) and D layers\n",
        "  - Pseudorapidity $\\eta$ segmentation of 0.1/0.2 depending on the cell type\n",
        "\n",
        "<img src=https://lip.pt/~rute/TileAgeing/calorimeters.jpeg width=\"650\">\n",
        "\n",
        "  <img src=https://lip.pt/~rute/TileAgeing/tileSegmentation.png width=\"650\">\n",
        "\n",
        "\n",
        "\n",
        "\n"
      ],
      "id": "1e2Keug9Dsq_"
    },
    {
      "cell_type": "markdown",
      "metadata": {
        "id": "BhKYxz_QQJ0y"
      },
      "source": [
        "## TileCal degradation\n",
        "\n",
        "Plastic scintillators have the advantage of being low cost and easy to shape. The drawback of this option is radiation damage.\n",
        "\n",
        "The plot shows the relative light yield I/I0 of scintillators and wavelength-shifting fibres for the A13 cell as a function of the deposited dose during the LHC Run 2.\n",
        "\n",
        "<img src=https://twiki.cern.ch/twiki/pub/AtlasPublic/ApprovedPlotsTileCalibrationCombined/LightLoss_doseGEANT4run2_scintOnly_A13_2015201620172018_log_Cs.pdf width=\"450\">\n",
        "\n",
        "This aspect can be especially critical for the upcoming High Luminosity LHC phase which will bring more dose exposure to the detector, but is also a unique opportunity to probe the detector to the limits and gather knowledge for the design of future experiments.\n",
        "\n",
        "## Modeling the Tilecal degradation\n",
        "\n",
        "The objective of this project is to model the degradation of the TileCal scintillators and optical fibres with Machine Learning regression to investigate the dependencies on the specific detector design parameters (scintillators/fibres sizes and others) and run conditions (integrated dose and dose rate). \n",
        "The aim is, for instance, to determine which elements of the detector are the weakest links in terms of damage: the optical fibres collecting light from the scintillators or the scintillator tiles themselves. Such results would add to a current fundamental discussion about state-of-the-art calorimetry.\n",
        "\n",
        "<img src=https://lip.pt/~rute/TileAgeing/tileData.png width=\"850\">\n",
        "\n",
        "Basically, we want the Machine Learning model to learn this function to let us inspect what are the explicit dependecies... (ask me more about it :-))\n",
        "\n",
        "<img src=https://lip.pt/~rute/TileAgeing/tileAgeingDNN.png width=\"850\">\n",
        "\n"
      ],
      "id": "BhKYxz_QQJ0y"
    },
    {
      "cell_type": "markdown",
      "metadata": {
        "id": "o-TiWGw5UoC5"
      },
      "source": [
        "# **Let's start!**"
      ],
      "id": "o-TiWGw5UoC5"
    },
    {
      "cell_type": "markdown",
      "metadata": {
        "id": "eHX57DkSUxu2"
      },
      "source": [
        "## Import the relevant python libraries"
      ],
      "id": "eHX57DkSUxu2"
    },
    {
      "cell_type": "code",
      "execution_count": null,
      "metadata": {
        "id": "4c104940"
      },
      "outputs": [],
      "source": [
        "import numpy as np\n",
        "import pandas as pd\n",
        "import random\n",
        "import matplotlib.pyplot as plt\n",
        "import seaborn as sn\n",
        "\n",
        "from keras.callbacks import EarlyStopping\n",
        "from keras.models import Sequential\n",
        "from keras.layers import Dense, Activation, Flatten, BatchNormalization\n",
        "from keras import backend as K\n",
        "from sklearn.preprocessing import StandardScaler\n",
        "from numpy import random\n",
        "from tensorflow import keras\n",
        "from tensorflow.keras import layers\n",
        "from google.colab import files\n",
        "\n",
        "%matplotlib inline \n",
        "\n"
      ],
      "id": "4c104940"
    },
    {
      "cell_type": "markdown",
      "metadata": {
        "id": "jESUFfjXU7VU"
      },
      "source": [
        "## Load the data"
      ],
      "id": "jESUFfjXU7VU"
    },
    {
      "cell_type": "code",
      "execution_count": null,
      "metadata": {
        "id": "a64bfb53",
        "colab": {
          "base_uri": "https://localhost:8080/"
        },
        "outputId": "99b7dc23-47f5-4a81-c231-991c460ec4a8"
      },
      "outputs": [
        {
          "output_type": "execute_result",
          "data": {
            "text/plain": [
              "Index(['cell', 'module', 'channel', 'nlayers', 'ntiles', 'nshortfibres',\n",
              "       'nlongfibres', 'lminfibre', 'lmaxfibre', 'tileheight', 'lmintile',\n",
              "       'lmaxtile', 'doserate', 'doserateRMS', 'date', 'intluminosity', 'dose',\n",
              "       'doseRMS', 'lightyield'],\n",
              "      dtype='object')"
            ]
          },
          "metadata": {},
          "execution_count": 3
        }
      ],
      "source": [
        "data = pd.read_csv(\"https://www.lip.pt/~rute/TileAgeing/LightLoss_2015201620172018.csv\",delimiter=\" \")\n",
        "\n",
        "data.columns"
      ],
      "id": "a64bfb53"
    },
    {
      "cell_type": "markdown",
      "metadata": {
        "id": "RPYzQ44SVGnz"
      },
      "source": [
        "## Data explained\n",
        "\n",
        "Each row corresponds to a measurement of the light yield for a given cell and has the following variables:\n",
        "\n",
        "- '**cell**': cell type, eg. A1\n",
        "- '**module**': module type (LB-Long Barrel / EB-Extended Barrel) + side (A/C) and number (1-64), eg. LBA35, EBC48, LBC15, LBA26\n",
        "- '**channel**': readout channel numbering convention, maps each cell type into two channels (cells have double readout), more about it [here](http://zenis.dnp.fmph.uniba.sk/tile.html)\n",
        "- '**nlayers**': number of scintillator layers in the cell along the radial direction, eg. 3 layers for the A cells\n",
        "- '**ntiles**': total number of tile scintillators in the cell\n",
        "- '**nshortfibres**': number of short optical fibres in the cell (fibres reading tiles closer to the PMTs are shorter)\n",
        "- '**nshortfibres**': number of long optical fibres in the cell (fibres reading tiles futher away from the PMTs are longer)\n",
        "- '**lminfibre/lmaxfibre**': short/long fibre size\n",
        "- '**tileheight**': height of the tiles (along the radial direction)\n",
        "- '**lmintile**': shortest tile width (tiles are trapezoidal)\n",
        "- '**lmaxtile**': longest tile width (tiles are trapezoidal)\n",
        "- '**doserate**': average dose rate within the cell volume\n",
        "- '**doserateRMS**': RMS of the dose rate distribution within the cell volume\n",
        "- '**date**': date of the measurement\n",
        "- '**intluminosity**': measure of the number of LHC collision events by the time of the measurement (the cell dose will be proportional to this value - with more collisions there is more dose exposure)\n",
        "- '**dose**': average dose within the cell volume by the time of the measurement\n",
        "- '**dose**': RMS of the dose within the cell volume by the time of the measurement\n",
        "- '**lightyield**': measured light yield\n",
        "\n",
        "\n",
        "Note: Dose-related values are simulated.\n",
        "\n",
        "\n"
      ],
      "id": "RPYzQ44SVGnz"
    },
    {
      "cell_type": "markdown",
      "metadata": {
        "id": "ETPo9kACbZcf"
      },
      "source": [
        "## Variables for training\n",
        "We drop features without physical meaning such as cell naming conventions..."
      ],
      "id": "ETPo9kACbZcf"
    },
    {
      "cell_type": "code",
      "execution_count": null,
      "metadata": {
        "id": "467985ae"
      },
      "outputs": [],
      "source": [
        "input_features = ['nlayers', 'ntiles', 'nshortfibres',\n",
        "        'nlongfibres', 'lminfibre', 'lmaxfibre', \n",
        "        'tileheight', 'lmintile', 'lmaxtile', \n",
        "        'doserate', 'doserateRMS', 'date', \n",
        "        'intluminosity', 'dose', 'doseRMS']"
      ],
      "id": "467985ae"
    },
    {
      "cell_type": "markdown",
      "metadata": {
        "id": "JwK9_AnKboY8"
      },
      "source": [
        "## Divide the data into a training and a test set\n",
        "\n",
        "We want to verify if the Neural Network is learning/modelling well the degradation of the cells, so we will use:\n",
        "\n",
        "- **odd cells** (A1, A3,...) for training\n",
        "- **even cells** (A2, A4,...) for testing\n",
        "\n",
        "Is the Neural Network able to correctly predict the degradation of eg. the A2 cell without having access to the cells conditions during training? If yes, then it is learning the physics behind the data!\n",
        "\n"
      ],
      "id": "JwK9_AnKboY8"
    },
    {
      "cell_type": "code",
      "execution_count": null,
      "metadata": {
        "id": "603cbc52",
        "colab": {
          "base_uri": "https://localhost:8080/"
        },
        "outputId": "3f1d3a0c-7a2d-4078-daf4-80905bd7fd8a"
      },
      "outputs": [
        {
          "output_type": "stream",
          "name": "stdout",
          "text": [
            "train cells  ['A1', 'A3', 'A4', 'A6', 'A7', 'A9', 'A10', 'A13', 'A14', 'A16', 'BC1', 'BC3', 'BC4', 'BC6', 'BC7', 'B9', 'C10', 'B11', 'B13', 'B14', 'D0', 'D1', 'D3', 'D4']\n",
            "test cells  ['A2', 'A5', 'A8', 'A12', 'A15', 'BC2', 'BC5', 'BC8', 'B12', 'B15', 'D2']\n"
          ]
        }
      ],
      "source": [
        "train_cells=[]\n",
        "test_cells =[]\n",
        "\n",
        "for cell in data['cell'].unique():\n",
        "\n",
        "    if cell in ['D5','D6']: continue\n",
        "    \n",
        "    even = (int(cell[-1])+1)%3==0\n",
        "    \n",
        "    if even: test_cells.append(cell)\n",
        "    else: train_cells.append(cell)\n",
        "\n",
        "print('train cells ', train_cells)\n",
        "print('test cells ', test_cells)"
      ],
      "id": "603cbc52"
    },
    {
      "cell_type": "code",
      "execution_count": null,
      "metadata": {
        "id": "72d9f6df",
        "colab": {
          "base_uri": "https://localhost:8080/"
        },
        "outputId": "141f7a12-4d8e-47dc-c3c3-b196d66098d4"
      },
      "outputs": [
        {
          "output_type": "stream",
          "name": "stdout",
          "text": [
            "Clean data samples 126487/139332\n",
            "Training data samples 84976\n",
            "Test     data samples 40032\n"
          ]
        }
      ],
      "source": [
        "# Some clean-up of residual defectuous data that we know about (malfunctioning channels etc...)\n",
        "data_clean = data.query('lightyield < 1.01 & lightyield > 0.7')\n",
        "\n",
        "print(f'Clean data samples {len(data_clean)}/{len(data)}')\n",
        "\n",
        "train_data = data_clean.query('cell in @train_cells')\n",
        "test_data  = data_clean.query('cell in @test_cells')\n",
        "print(f'Training data samples {len(train_data)}')\n",
        "print(f'Test     data samples {len(test_data)}')"
      ],
      "id": "72d9f6df"
    },
    {
      "cell_type": "code",
      "execution_count": null,
      "metadata": {
        "id": "q8EZULAFvGcF",
        "colab": {
          "base_uri": "https://localhost:8080/",
          "height": 423
        },
        "outputId": "19bfc3fc-f410-4462-a500-20fac2d7c3ad"
      },
      "outputs": [
        {
          "output_type": "execute_result",
          "data": {
            "text/html": [
              "\n",
              "  <div id=\"df-5aba064f-2c72-4540-aa51-4a2416370f46\">\n",
              "    <div class=\"colab-df-container\">\n",
              "      <div>\n",
              "<style scoped>\n",
              "    .dataframe tbody tr th:only-of-type {\n",
              "        vertical-align: middle;\n",
              "    }\n",
              "\n",
              "    .dataframe tbody tr th {\n",
              "        vertical-align: top;\n",
              "    }\n",
              "\n",
              "    .dataframe thead th {\n",
              "        text-align: right;\n",
              "    }\n",
              "</style>\n",
              "<table border=\"1\" class=\"dataframe\">\n",
              "  <thead>\n",
              "    <tr style=\"text-align: right;\">\n",
              "      <th></th>\n",
              "      <th>nlayers</th>\n",
              "      <th>ntiles</th>\n",
              "      <th>nshortfibres</th>\n",
              "      <th>nlongfibres</th>\n",
              "      <th>lminfibre</th>\n",
              "      <th>lmaxfibre</th>\n",
              "      <th>tileheight</th>\n",
              "      <th>lmintile</th>\n",
              "      <th>lmaxtile</th>\n",
              "      <th>doserate</th>\n",
              "      <th>doserateRMS</th>\n",
              "      <th>date</th>\n",
              "      <th>intluminosity</th>\n",
              "      <th>dose</th>\n",
              "      <th>doseRMS</th>\n",
              "    </tr>\n",
              "  </thead>\n",
              "  <tbody>\n",
              "    <tr>\n",
              "      <th>0</th>\n",
              "      <td>-0.483002</td>\n",
              "      <td>-1.150495</td>\n",
              "      <td>-0.850563</td>\n",
              "      <td>-0.845926</td>\n",
              "      <td>0.629912</td>\n",
              "      <td>0.710873</td>\n",
              "      <td>-0.869784</td>\n",
              "      <td>-0.782130</td>\n",
              "      <td>-1.027380</td>\n",
              "      <td>0.614749</td>\n",
              "      <td>0.561441</td>\n",
              "      <td>-1.036100</td>\n",
              "      <td>-0.469381</td>\n",
              "      <td>-0.223872</td>\n",
              "      <td>-0.234702</td>\n",
              "    </tr>\n",
              "    <tr>\n",
              "      <th>1</th>\n",
              "      <td>-0.483002</td>\n",
              "      <td>-1.150495</td>\n",
              "      <td>-0.850563</td>\n",
              "      <td>-0.845926</td>\n",
              "      <td>0.629912</td>\n",
              "      <td>0.710873</td>\n",
              "      <td>-0.869784</td>\n",
              "      <td>-0.782130</td>\n",
              "      <td>-1.027380</td>\n",
              "      <td>0.614749</td>\n",
              "      <td>0.561441</td>\n",
              "      <td>-0.378896</td>\n",
              "      <td>-0.466264</td>\n",
              "      <td>-0.218972</td>\n",
              "      <td>-0.229937</td>\n",
              "    </tr>\n",
              "    <tr>\n",
              "      <th>2</th>\n",
              "      <td>-0.483002</td>\n",
              "      <td>-1.150495</td>\n",
              "      <td>-0.850563</td>\n",
              "      <td>-0.845926</td>\n",
              "      <td>0.629912</td>\n",
              "      <td>0.710873</td>\n",
              "      <td>-0.869784</td>\n",
              "      <td>-0.782130</td>\n",
              "      <td>-1.027380</td>\n",
              "      <td>0.614749</td>\n",
              "      <td>0.561441</td>\n",
              "      <td>-0.322450</td>\n",
              "      <td>-0.466264</td>\n",
              "      <td>-0.218972</td>\n",
              "      <td>-0.229937</td>\n",
              "    </tr>\n",
              "    <tr>\n",
              "      <th>3</th>\n",
              "      <td>-0.483002</td>\n",
              "      <td>-1.150495</td>\n",
              "      <td>-0.850563</td>\n",
              "      <td>-0.845926</td>\n",
              "      <td>0.629912</td>\n",
              "      <td>0.710873</td>\n",
              "      <td>-0.869784</td>\n",
              "      <td>-0.782130</td>\n",
              "      <td>-1.027380</td>\n",
              "      <td>0.614749</td>\n",
              "      <td>0.561441</td>\n",
              "      <td>-0.152605</td>\n",
              "      <td>-0.440188</td>\n",
              "      <td>-0.177990</td>\n",
              "      <td>-0.190085</td>\n",
              "    </tr>\n",
              "    <tr>\n",
              "      <th>4</th>\n",
              "      <td>-0.483002</td>\n",
              "      <td>-1.150495</td>\n",
              "      <td>-0.850563</td>\n",
              "      <td>-0.845926</td>\n",
              "      <td>0.629912</td>\n",
              "      <td>0.710873</td>\n",
              "      <td>-0.869784</td>\n",
              "      <td>-0.782130</td>\n",
              "      <td>-1.027380</td>\n",
              "      <td>0.614749</td>\n",
              "      <td>0.561441</td>\n",
              "      <td>-1.036100</td>\n",
              "      <td>-0.469381</td>\n",
              "      <td>-0.223872</td>\n",
              "      <td>-0.234702</td>\n",
              "    </tr>\n",
              "    <tr>\n",
              "      <th>...</th>\n",
              "      <td>...</td>\n",
              "      <td>...</td>\n",
              "      <td>...</td>\n",
              "      <td>...</td>\n",
              "      <td>...</td>\n",
              "      <td>...</td>\n",
              "      <td>...</td>\n",
              "      <td>...</td>\n",
              "      <td>...</td>\n",
              "      <td>...</td>\n",
              "      <td>...</td>\n",
              "      <td>...</td>\n",
              "      <td>...</td>\n",
              "      <td>...</td>\n",
              "      <td>...</td>\n",
              "    </tr>\n",
              "    <tr>\n",
              "      <th>84971</th>\n",
              "      <td>-1.207807</td>\n",
              "      <td>-0.866912</td>\n",
              "      <td>-0.497668</td>\n",
              "      <td>-0.571585</td>\n",
              "      <td>-2.449291</td>\n",
              "      <td>-2.445111</td>\n",
              "      <td>2.089053</td>\n",
              "      <td>2.180884</td>\n",
              "      <td>1.607109</td>\n",
              "      <td>-0.537426</td>\n",
              "      <td>-0.479202</td>\n",
              "      <td>2.608253</td>\n",
              "      <td>2.634976</td>\n",
              "      <td>1.015760</td>\n",
              "      <td>1.237264</td>\n",
              "    </tr>\n",
              "    <tr>\n",
              "      <th>84972</th>\n",
              "      <td>-1.207807</td>\n",
              "      <td>-0.866912</td>\n",
              "      <td>-0.497668</td>\n",
              "      <td>-0.571585</td>\n",
              "      <td>-2.449291</td>\n",
              "      <td>-2.445111</td>\n",
              "      <td>2.089053</td>\n",
              "      <td>2.180884</td>\n",
              "      <td>1.607109</td>\n",
              "      <td>-0.537426</td>\n",
              "      <td>-0.479202</td>\n",
              "      <td>2.608253</td>\n",
              "      <td>2.634976</td>\n",
              "      <td>1.015760</td>\n",
              "      <td>1.237264</td>\n",
              "    </tr>\n",
              "    <tr>\n",
              "      <th>84973</th>\n",
              "      <td>-1.207807</td>\n",
              "      <td>-0.866912</td>\n",
              "      <td>-0.497668</td>\n",
              "      <td>-0.571585</td>\n",
              "      <td>-2.449291</td>\n",
              "      <td>-2.445111</td>\n",
              "      <td>2.089053</td>\n",
              "      <td>2.180884</td>\n",
              "      <td>1.607109</td>\n",
              "      <td>-0.537426</td>\n",
              "      <td>-0.479202</td>\n",
              "      <td>2.608253</td>\n",
              "      <td>2.634976</td>\n",
              "      <td>1.015760</td>\n",
              "      <td>1.237264</td>\n",
              "    </tr>\n",
              "    <tr>\n",
              "      <th>84974</th>\n",
              "      <td>-1.207807</td>\n",
              "      <td>-0.866912</td>\n",
              "      <td>-0.497668</td>\n",
              "      <td>-0.571585</td>\n",
              "      <td>-2.449291</td>\n",
              "      <td>-2.445111</td>\n",
              "      <td>2.089053</td>\n",
              "      <td>2.180884</td>\n",
              "      <td>1.607109</td>\n",
              "      <td>-0.537426</td>\n",
              "      <td>-0.479202</td>\n",
              "      <td>2.608253</td>\n",
              "      <td>2.634976</td>\n",
              "      <td>1.015760</td>\n",
              "      <td>1.237264</td>\n",
              "    </tr>\n",
              "    <tr>\n",
              "      <th>84975</th>\n",
              "      <td>-1.207807</td>\n",
              "      <td>-0.866912</td>\n",
              "      <td>-0.497668</td>\n",
              "      <td>-0.571585</td>\n",
              "      <td>-2.449291</td>\n",
              "      <td>-2.445111</td>\n",
              "      <td>2.089053</td>\n",
              "      <td>2.180884</td>\n",
              "      <td>1.607109</td>\n",
              "      <td>-0.537426</td>\n",
              "      <td>-0.479202</td>\n",
              "      <td>2.608253</td>\n",
              "      <td>2.634976</td>\n",
              "      <td>1.015760</td>\n",
              "      <td>1.237264</td>\n",
              "    </tr>\n",
              "  </tbody>\n",
              "</table>\n",
              "<p>84976 rows × 15 columns</p>\n",
              "</div>\n",
              "      <button class=\"colab-df-convert\" onclick=\"convertToInteractive('df-5aba064f-2c72-4540-aa51-4a2416370f46')\"\n",
              "              title=\"Convert this dataframe to an interactive table.\"\n",
              "              style=\"display:none;\">\n",
              "        \n",
              "  <svg xmlns=\"http://www.w3.org/2000/svg\" height=\"24px\"viewBox=\"0 0 24 24\"\n",
              "       width=\"24px\">\n",
              "    <path d=\"M0 0h24v24H0V0z\" fill=\"none\"/>\n",
              "    <path d=\"M18.56 5.44l.94 2.06.94-2.06 2.06-.94-2.06-.94-.94-2.06-.94 2.06-2.06.94zm-11 1L8.5 8.5l.94-2.06 2.06-.94-2.06-.94L8.5 2.5l-.94 2.06-2.06.94zm10 10l.94 2.06.94-2.06 2.06-.94-2.06-.94-.94-2.06-.94 2.06-2.06.94z\"/><path d=\"M17.41 7.96l-1.37-1.37c-.4-.4-.92-.59-1.43-.59-.52 0-1.04.2-1.43.59L10.3 9.45l-7.72 7.72c-.78.78-.78 2.05 0 2.83L4 21.41c.39.39.9.59 1.41.59.51 0 1.02-.2 1.41-.59l7.78-7.78 2.81-2.81c.8-.78.8-2.07 0-2.86zM5.41 20L4 18.59l7.72-7.72 1.47 1.35L5.41 20z\"/>\n",
              "  </svg>\n",
              "      </button>\n",
              "      \n",
              "  <style>\n",
              "    .colab-df-container {\n",
              "      display:flex;\n",
              "      flex-wrap:wrap;\n",
              "      gap: 12px;\n",
              "    }\n",
              "\n",
              "    .colab-df-convert {\n",
              "      background-color: #E8F0FE;\n",
              "      border: none;\n",
              "      border-radius: 50%;\n",
              "      cursor: pointer;\n",
              "      display: none;\n",
              "      fill: #1967D2;\n",
              "      height: 32px;\n",
              "      padding: 0 0 0 0;\n",
              "      width: 32px;\n",
              "    }\n",
              "\n",
              "    .colab-df-convert:hover {\n",
              "      background-color: #E2EBFA;\n",
              "      box-shadow: 0px 1px 2px rgba(60, 64, 67, 0.3), 0px 1px 3px 1px rgba(60, 64, 67, 0.15);\n",
              "      fill: #174EA6;\n",
              "    }\n",
              "\n",
              "    [theme=dark] .colab-df-convert {\n",
              "      background-color: #3B4455;\n",
              "      fill: #D2E3FC;\n",
              "    }\n",
              "\n",
              "    [theme=dark] .colab-df-convert:hover {\n",
              "      background-color: #434B5C;\n",
              "      box-shadow: 0px 1px 3px 1px rgba(0, 0, 0, 0.15);\n",
              "      filter: drop-shadow(0px 1px 2px rgba(0, 0, 0, 0.3));\n",
              "      fill: #FFFFFF;\n",
              "    }\n",
              "  </style>\n",
              "\n",
              "      <script>\n",
              "        const buttonEl =\n",
              "          document.querySelector('#df-5aba064f-2c72-4540-aa51-4a2416370f46 button.colab-df-convert');\n",
              "        buttonEl.style.display =\n",
              "          google.colab.kernel.accessAllowed ? 'block' : 'none';\n",
              "\n",
              "        async function convertToInteractive(key) {\n",
              "          const element = document.querySelector('#df-5aba064f-2c72-4540-aa51-4a2416370f46');\n",
              "          const dataTable =\n",
              "            await google.colab.kernel.invokeFunction('convertToInteractive',\n",
              "                                                     [key], {});\n",
              "          if (!dataTable) return;\n",
              "\n",
              "          const docLinkHtml = 'Like what you see? Visit the ' +\n",
              "            '<a target=\"_blank\" href=https://colab.research.google.com/notebooks/data_table.ipynb>data table notebook</a>'\n",
              "            + ' to learn more about interactive tables.';\n",
              "          element.innerHTML = '';\n",
              "          dataTable['output_type'] = 'display_data';\n",
              "          await google.colab.output.renderOutput(dataTable, element);\n",
              "          const docLink = document.createElement('div');\n",
              "          docLink.innerHTML = docLinkHtml;\n",
              "          element.appendChild(docLink);\n",
              "        }\n",
              "      </script>\n",
              "    </div>\n",
              "  </div>\n",
              "  "
            ],
            "text/plain": [
              "        nlayers    ntiles  nshortfibres  ...  intluminosity      dose   doseRMS\n",
              "0     -0.483002 -1.150495     -0.850563  ...      -0.469381 -0.223872 -0.234702\n",
              "1     -0.483002 -1.150495     -0.850563  ...      -0.466264 -0.218972 -0.229937\n",
              "2     -0.483002 -1.150495     -0.850563  ...      -0.466264 -0.218972 -0.229937\n",
              "3     -0.483002 -1.150495     -0.850563  ...      -0.440188 -0.177990 -0.190085\n",
              "4     -0.483002 -1.150495     -0.850563  ...      -0.469381 -0.223872 -0.234702\n",
              "...         ...       ...           ...  ...            ...       ...       ...\n",
              "84971 -1.207807 -0.866912     -0.497668  ...       2.634976  1.015760  1.237264\n",
              "84972 -1.207807 -0.866912     -0.497668  ...       2.634976  1.015760  1.237264\n",
              "84973 -1.207807 -0.866912     -0.497668  ...       2.634976  1.015760  1.237264\n",
              "84974 -1.207807 -0.866912     -0.497668  ...       2.634976  1.015760  1.237264\n",
              "84975 -1.207807 -0.866912     -0.497668  ...       2.634976  1.015760  1.237264\n",
              "\n",
              "[84976 rows x 15 columns]"
            ]
          },
          "metadata": {},
          "execution_count": 7
        }
      ],
      "source": [
        "# Normalize/Standardize data (mean = 0  and std = 1)\n",
        "from sklearn.preprocessing import StandardScaler\n",
        "#https://scikit-learn.org/stable/modules/generated/sklearn.preprocessing.StandardScaler.html\n",
        "\n",
        "scaler=StandardScaler()\n",
        "\n",
        "scaler.fit(train_data[input_features].values)\n",
        "train_data_std_f=scaler.transform(train_data[input_features].values)\n",
        "\n",
        "test_data_std_f=scaler.transform(test_data[input_features].values)\n",
        "\n",
        "# We tranform them into a dataframe and the column's label\n",
        "train_data_std_f=pd.DataFrame(train_data_std_f).set_axis(input_features, axis=1, inplace=False)\n",
        "test_data_std_f=pd.DataFrame(test_data_std_f).set_axis(input_features, axis=1, inplace=False)\n",
        "\n",
        "train_data_std_f"
      ],
      "id": "q8EZULAFvGcF"
    },
    {
      "cell_type": "markdown",
      "metadata": {
        "id": "PQyGGxPIfa_Q"
      },
      "source": [
        "## Create the Machine Learning Model\n",
        "\n",
        "We'll start with a Deep Neural Network for Regression problems"
      ],
      "id": "PQyGGxPIfa_Q"
    },
    {
      "cell_type": "markdown",
      "source": [
        "#Hyperparameter optimization"
      ],
      "metadata": {
        "id": "D4SujPvqGVUc"
      },
      "id": "D4SujPvqGVUc"
    },
    {
      "cell_type": "code",
      "execution_count": null,
      "metadata": {
        "id": "qNRehLuhDzd5",
        "colab": {
          "base_uri": "https://localhost:8080/"
        },
        "outputId": "b5efd65b-956c-4f28-f579-7b25dbc654f9"
      },
      "outputs": [
        {
          "output_type": "stream",
          "name": "stdout",
          "text": [
            "Model: \"sequential\"\n",
            "_________________________________________________________________\n",
            " Layer (type)                Output Shape              Param #   \n",
            "=================================================================\n",
            " dense (Dense)               (None, 20)                320       \n",
            "                                                                 \n",
            " dense_1 (Dense)             (None, 1)                 21        \n",
            "                                                                 \n",
            "=================================================================\n",
            "Total params: 341\n",
            "Trainable params: 341\n",
            "Non-trainable params: 0\n",
            "_________________________________________________________________\n",
            "Epoch 1/20\n",
            "1328/1328 [==============================] - 4s 2ms/step - loss: 0.2848 - mean_absolute_error: 0.2848 - val_loss: 0.3462 - val_mean_absolute_error: 0.3462\n",
            "Epoch 2/20\n",
            "1328/1328 [==============================] - 5s 4ms/step - loss: 0.0485 - mean_absolute_error: 0.0485 - val_loss: 0.1834 - val_mean_absolute_error: 0.1834\n",
            "Epoch 3/20\n",
            "1328/1328 [==============================] - 3s 2ms/step - loss: 0.0149 - mean_absolute_error: 0.0149 - val_loss: 0.1038 - val_mean_absolute_error: 0.1038\n",
            "Epoch 4/20\n",
            "1328/1328 [==============================] - 3s 2ms/step - loss: 0.0079 - mean_absolute_error: 0.0079 - val_loss: 0.0703 - val_mean_absolute_error: 0.0703\n",
            "Epoch 5/20\n",
            "1328/1328 [==============================] - 3s 2ms/step - loss: 0.0062 - mean_absolute_error: 0.0062 - val_loss: 0.0536 - val_mean_absolute_error: 0.0536\n",
            "Epoch 6/20\n",
            "1328/1328 [==============================] - 3s 2ms/step - loss: 0.0058 - mean_absolute_error: 0.0058 - val_loss: 0.0446 - val_mean_absolute_error: 0.0446\n",
            "Epoch 7/20\n",
            "1328/1328 [==============================] - 3s 2ms/step - loss: 0.0055 - mean_absolute_error: 0.0055 - val_loss: 0.0386 - val_mean_absolute_error: 0.0386\n",
            "Epoch 8/20\n",
            "1328/1328 [==============================] - 3s 2ms/step - loss: 0.0053 - mean_absolute_error: 0.0053 - val_loss: 0.0342 - val_mean_absolute_error: 0.0342\n",
            "Epoch 9/20\n",
            "1328/1328 [==============================] - 3s 2ms/step - loss: 0.0052 - mean_absolute_error: 0.0052 - val_loss: 0.0313 - val_mean_absolute_error: 0.0313\n",
            "Epoch 10/20\n",
            "1328/1328 [==============================] - 3s 2ms/step - loss: 0.0051 - mean_absolute_error: 0.0051 - val_loss: 0.0292 - val_mean_absolute_error: 0.0292\n",
            "Epoch 11/20\n",
            "1328/1328 [==============================] - 3s 2ms/step - loss: 0.0050 - mean_absolute_error: 0.0050 - val_loss: 0.0281 - val_mean_absolute_error: 0.0281\n",
            "Epoch 12/20\n",
            "1328/1328 [==============================] - 3s 2ms/step - loss: 0.0050 - mean_absolute_error: 0.0050 - val_loss: 0.0273 - val_mean_absolute_error: 0.0273\n",
            "Epoch 13/20\n",
            "1328/1328 [==============================] - 3s 2ms/step - loss: 0.0049 - mean_absolute_error: 0.0049 - val_loss: 0.0268 - val_mean_absolute_error: 0.0268\n",
            "Epoch 14/20\n",
            "1328/1328 [==============================] - 3s 2ms/step - loss: 0.0049 - mean_absolute_error: 0.0049 - val_loss: 0.0266 - val_mean_absolute_error: 0.0266\n",
            "Epoch 15/20\n",
            "1328/1328 [==============================] - 3s 2ms/step - loss: 0.0049 - mean_absolute_error: 0.0049 - val_loss: 0.0268 - val_mean_absolute_error: 0.0268\n",
            "Epoch 16/20\n",
            "1328/1328 [==============================] - 3s 2ms/step - loss: 0.0049 - mean_absolute_error: 0.0049 - val_loss: 0.0268 - val_mean_absolute_error: 0.0268\n",
            "Epoch 17/20\n",
            "1328/1328 [==============================] - 3s 2ms/step - loss: 0.0049 - mean_absolute_error: 0.0049 - val_loss: 0.0269 - val_mean_absolute_error: 0.0269\n"
          ]
        }
      ],
      "source": [
        "for j in [20,30,40,50,70]:\n",
        "  for i in range(3):\n",
        "    NN_model = Sequential()\n",
        "    # The Input Layer\n",
        "    NN_model.add(Dense(j, kernel_initializer='normal',input_dim = train_data_std_f[input_features].shape[1], activation='relu'))\n",
        "    if i ==1:\n",
        "      NN_model.add(Dense(j, kernel_initializer='normal',activation='sigmoid'))\n",
        "    if i ==2:\n",
        "      NN_model.add(Dense(j, kernel_initializer='normal',activation='sigmoid'))\n",
        "      NN_model.add(Dense(j, kernel_initializer='normal',activation='sigmoid'))\n",
        "\n",
        "    # The Output Layer\n",
        "    NN_model.add(Dense(1, kernel_initializer='normal',activation='sigmoid'))\n",
        "\n",
        "\n",
        "    # Compile the network\n",
        "\n",
        "    # Change the learning rate of our model\n",
        "    opt = keras.optimizers.Adam(learning_rate=0.0001)\n",
        "    NN_model.compile(loss='mean_absolute_error', optimizer=opt, metrics=['mean_absolute_error'])\n",
        "    NN_model.summary()\n",
        "    history=NN_model.fit(train_data_std_f, train_data['lightyield'].values, epochs=20, batch_size=32, validation_split = 0.5, shuffle=True,callbacks=EarlyStopping(patience=3))\n",
        "    # Prediction\n",
        "    y_pred = NN_model.predict(test_data_std_f, verbose=1)\n",
        "    a=y_pred.T[0] # Transpomos o vetor com os valores previstos\n",
        "\n",
        "    # Real Values\n",
        "    b=test_data['lightyield'].T.values\n",
        "\n",
        "    # Ratio between the two\n",
        "    ratios=-(b-a)\n",
        "    print(f\"\\n mean:{ np.mean(ratios):.4f}\")\n",
        "    print(f\" RMSE:{ np.std(ratios):.4f}\\n\")"
      ],
      "id": "qNRehLuhDzd5"
    },
    {
      "cell_type": "markdown",
      "metadata": {
        "id": "4HA3H02WVeol"
      },
      "source": [
        "### Com sigmoid"
      ],
      "id": "4HA3H02WVeol"
    },
    {
      "cell_type": "markdown",
      "metadata": {
        "id": "Q0p_a_XUVQh2"
      },
      "source": [
        "<style type=\"text/css\">\n",
        ".tg  {border-collapse:collapse;border-spacing:0;}\n",
        ".tg td{border-color:black;border-style:solid;border-width:1px;font-family:Arial, sans-serif;font-size:14px;\n",
        "  overflow:hidden;padding:10px 5px;word-break:normal;}\n",
        ".tg th{border-color:black;border-style:solid;border-width:1px;font-family:Arial, sans-serif;font-size:14px;\n",
        "  font-weight:normal;overflow:hidden;padding:10px 5px;word-break:normal;}\n",
        ".tg .tg-baqh{text-align:center;vertical-align:top}\n",
        ".tg .tg-c3ow{border-color:inherit;text-align:center;vertical-align:top}\n",
        "</style>\n",
        "<table class=\"tg\">\n",
        "<thead>\n",
        "  <tr>\n",
        "    <th class=\"tg-c3ow\">Hidden Layers</th>\n",
        "    <th class=\"tg-baqh\">Depth</th>\n",
        "    <th class=\"tg-baqh\">Mean</th>\n",
        "    <th class=\"tg-baqh\">RMSE</th>\n",
        "  </tr>\n",
        "</thead>\n",
        "<tbody>\n",
        "  <tr>\n",
        "    <td class=\"tg-baqh\">1</td>\n",
        "    <td class=\"tg-baqh\">20</td>\n",
        "    <td class=\"tg-baqh\">-0.0152</td>\n",
        "    <td class=\"tg-baqh\">0.0359</td>\n",
        "  </tr>\n",
        "  <tr>\n",
        "    <td class=\"tg-baqh\">1</td>\n",
        "    <td class=\"tg-baqh\">30</td>\n",
        "    <td class=\"tg-baqh\">-0.0011</td>\n",
        "    <td class=\"tg-baqh\">0.0089</td>\n",
        "  </tr>\n",
        "  <tr>\n",
        "    <td class=\"tg-baqh\">1</td>\n",
        "    <td class=\"tg-baqh\">50</td>\n",
        "    <td class=\"tg-baqh\">-0.0011</td>\n",
        "    <td class=\"tg-baqh\">0.0097</td>\n",
        "  </tr>\n",
        "  <tr>\n",
        "    <td class=\"tg-baqh\">1</td>\n",
        "    <td class=\"tg-baqh\">80</td>\n",
        "    <td class=\"tg-baqh\">-0.0072</td>\n",
        "    <td class=\"tg-baqh\">0.0233</td>\n",
        "  </tr>\n",
        "  <tr>\n",
        "    <td class=\"tg-baqh\">2</td>\n",
        "    <td class=\"tg-baqh\">20</td>\n",
        "    <td class=\"tg-baqh\">0.0002</td>\n",
        "    <td class=\"tg-baqh\">0.0080</td>\n",
        "  </tr>\n",
        "  <tr>\n",
        "    <td class=\"tg-baqh\">2</td>\n",
        "    <td class=\"tg-baqh\">30</td>\n",
        "    <td class=\"tg-baqh\">-0.0106</td>\n",
        "    <td class=\"tg-baqh\">0.0264</td>\n",
        "  </tr>\n",
        "  <tr>\n",
        "    <td class=\"tg-baqh\">2</td>\n",
        "    <td class=\"tg-baqh\">50</td>\n",
        "    <td class=\"tg-baqh\">0.0001</td>\n",
        "    <td class=\"tg-baqh\">0.0083</td>\n",
        "  </tr>\n",
        "  <tr>\n",
        "    <td class=\"tg-baqh\">2</td>\n",
        "    <td class=\"tg-baqh\">80</td>\n",
        "    <td class=\"tg-baqh\">-0.0014</td>\n",
        "    <td class=\"tg-baqh\">0.0093</td>\n",
        "  </tr>\n",
        "  <tr>\n",
        "    <td class=\"tg-baqh\">3</td>\n",
        "    <td class=\"tg-baqh\">20</td>\n",
        "    <td class=\"tg-baqh\">-0.0269</td>\n",
        "    <td class=\"tg-baqh\">0.0703</td>\n",
        "  </tr>\n",
        "  <tr>\n",
        "    <td class=\"tg-baqh\">3</td>\n",
        "    <td class=\"tg-baqh\">30</td>\n",
        "    <td class=\"tg-baqh\">-0.0001</td>\n",
        "    <td class=\"tg-baqh\">0.0083</td>\n",
        "  </tr>\n",
        "  <tr>\n",
        "    <td class=\"tg-baqh\">3</td>\n",
        "    <td class=\"tg-baqh\">50</td>\n",
        "    <td class=\"tg-baqh\">0.0007</td>\n",
        "    <td class=\"tg-baqh\">0.0075</td>\n",
        "  </tr>\n",
        "  <tr>\n",
        "    <td class=\"tg-baqh\">3</td>\n",
        "    <td class=\"tg-baqh\">80</td>\n",
        "    <td class=\"tg-baqh\">-0.0093</td>\n",
        "    <td class=\"tg-baqh\">0.0218</td>\n",
        "  </tr>\n",
        "</tbody>\n",
        "</table>"
      ],
      "id": "Q0p_a_XUVQh2"
    },
    {
      "cell_type": "markdown",
      "metadata": {
        "id": "3VNsLtlAVuUA"
      },
      "source": [
        "### Com relu\n",
        "<style type=\"text/css\">\n",
        ".tg  {border-collapse:collapse;border-spacing:0;}\n",
        ".tg td{border-color:black;border-style:solid;border-width:1px;font-family:Arial, sans-serif;font-size:14px;\n",
        "  overflow:hidden;padding:10px 5px;word-break:normal;}\n",
        ".tg th{border-color:black;border-style:solid;border-width:1px;font-family:Arial, sans-serif;font-size:14px;\n",
        "  font-weight:normal;overflow:hidden;padding:10px 5px;word-break:normal;}\n",
        ".tg .tg-baqh{text-align:center;vertical-align:top}\n",
        ".tg .tg-c3ow{border-color:inherit;text-align:center;vertical-align:top}\n",
        "</style>\n",
        "<table class=\"tg\">\n",
        "<thead>\n",
        "  <tr>\n",
        "    <th class=\"tg-c3ow\">Hidden Layers</th>\n",
        "    <th class=\"tg-baqh\">Depth</th>\n",
        "    <th class=\"tg-baqh\">Mean</th>\n",
        "    <th class=\"tg-baqh\">RMSE</th>\n",
        "  </tr>\n",
        "</thead>\n",
        "<tbody>\n",
        "  <tr>\n",
        "    <td class=\"tg-baqh\">1</td>\n",
        "    <td class=\"tg-baqh\">20</td>\n",
        "    <td class=\"tg-baqh\">-0.0082</td>\n",
        "    <td class=\"tg-baqh\">0.0316</td>\n",
        "  </tr>\n",
        "  <tr>\n",
        "    <td class=\"tg-baqh\">1</td>\n",
        "    <td class=\"tg-baqh\">30</td>\n",
        "    <td class=\"tg-baqh\">-0.0187</td>\n",
        "    <td class=\"tg-baqh\">0.0567</td>\n",
        "  </tr>\n",
        "  <tr>\n",
        "    <td class=\"tg-baqh\">1</td>\n",
        "    <td class=\"tg-baqh\">50</td>\n",
        "    <td class=\"tg-baqh\">-0.0038</td>\n",
        "    <td class=\"tg-baqh\">0.0188</td>\n",
        "  </tr>\n",
        "  <tr>\n",
        "    <td class=\"tg-baqh\">1</td>\n",
        "    <td class=\"tg-baqh\">80</td>\n",
        "    <td class=\"tg-baqh\">-0.0092</td>\n",
        "    <td class=\"tg-baqh\">0.0280</td>\n",
        "  </tr>\n",
        "  <tr>\n",
        "    <td class=\"tg-baqh\">2</td>\n",
        "    <td class=\"tg-baqh\">20</td>\n",
        "    <td class=\"tg-baqh\">-0.0064</td>\n",
        "    <td class=\"tg-baqh\">0.0260</td>\n",
        "  </tr>\n",
        "  <tr>\n",
        "    <td class=\"tg-baqh\">2</td>\n",
        "    <td class=\"tg-baqh\">30</td>\n",
        "    <td class=\"tg-baqh\">-0.0121</td>\n",
        "    <td class=\"tg-baqh\">0.0314</td>\n",
        "  </tr>\n",
        "  <tr>\n",
        "    <td class=\"tg-baqh\">2</td>\n",
        "    <td class=\"tg-baqh\">50</td>\n",
        "    <td class=\"tg-baqh\">-0.0048</td>\n",
        "    <td class=\"tg-baqh\">0.0220</td>\n",
        "  </tr>\n",
        "  <tr>\n",
        "    <td class=\"tg-baqh\">2</td>\n",
        "    <td class=\"tg-baqh\">80</td>\n",
        "    <td class=\"tg-baqh\">-0.0035</td>\n",
        "    <td class=\"tg-baqh\">0.0292</td>\n",
        "  </tr>\n",
        "  <tr>\n",
        "    <td class=\"tg-baqh\">3</td>\n",
        "    <td class=\"tg-baqh\">20</td>\n",
        "    <td class=\"tg-baqh\">-0.0001</td>\n",
        "    <td class=\"tg-baqh\">0.0224</td>\n",
        "  </tr>\n",
        "  <tr>\n",
        "    <td class=\"tg-baqh\">3</td>\n",
        "    <td class=\"tg-baqh\">30</td>\n",
        "    <td class=\"tg-baqh\">-0.0091</td>\n",
        "    <td class=\"tg-baqh\">0.0292</td>\n",
        "  </tr>\n",
        "  <tr>\n",
        "    <td class=\"tg-baqh\">3</td>\n",
        "    <td class=\"tg-baqh\">50</td>\n",
        "    <td class=\"tg-baqh\">-0.0074</td>\n",
        "    <td class=\"tg-baqh\">0.0252</td>\n",
        "  </tr>\n",
        "  <tr>\n",
        "    <td class=\"tg-baqh\">3</td>\n",
        "    <td class=\"tg-baqh\">80</td>\n",
        "    <td class=\"tg-baqh\">-0.0037</td>\n",
        "    <td class=\"tg-baqh\">0.0207</td>\n",
        "  </tr>\n",
        "</tbody>\n",
        "</table>"
      ],
      "id": "3VNsLtlAVuUA"
    },
    {
      "cell_type": "markdown",
      "source": [
        "# DNN creation"
      ],
      "metadata": {
        "id": "zQnZx6rzGi6n"
      },
      "id": "zQnZx6rzGi6n"
    },
    {
      "cell_type": "markdown",
      "metadata": {
        "id": "m7tLs9lJrHbL"
      },
      "source": [
        "The number of neurons in each layer is not really sensible. Usually you put a bit more or as much neurones on the first layer than inputs, and you decrease slowly until the last layer."
      ],
      "id": "m7tLs9lJrHbL"
    },
    {
      "cell_type": "code",
      "execution_count": null,
      "metadata": {
        "id": "12cac42f",
        "colab": {
          "base_uri": "https://localhost:8080/"
        },
        "outputId": "cd8cee13-02d3-4781-f1ab-17d742174def"
      },
      "outputs": [
        {
          "output_type": "stream",
          "name": "stdout",
          "text": [
            "Model: \"sequential\"\n",
            "_________________________________________________________________\n",
            " Layer (type)                Output Shape              Param #   \n",
            "=================================================================\n",
            " dense (Dense)               (None, 50)                800       \n",
            "                                                                 \n",
            " dense_1 (Dense)             (None, 50)                2550      \n",
            "                                                                 \n",
            " dense_2 (Dense)             (None, 50)                2550      \n",
            "                                                                 \n",
            " dense_3 (Dense)             (None, 1)                 51        \n",
            "                                                                 \n",
            "=================================================================\n",
            "Total params: 5,951\n",
            "Trainable params: 5,951\n",
            "Non-trainable params: 0\n",
            "_________________________________________________________________\n"
          ]
        }
      ],
      "source": [
        "NN_model = Sequential()\n",
        "\n",
        "# The Input Layer\n",
        "NN_model.add(Dense(50, kernel_initializer='normal',input_dim = train_data_std_f[input_features].shape[1], activation='relu'))\n",
        "\n",
        "# The Hidden Layers\n",
        "NN_model.add(Dense(50, kernel_initializer='normal',activation='sigmoid'))\n",
        "\n",
        "NN_model.add(Dense(50, kernel_initializer='normal',activation='sigmoid'))\n",
        "\n",
        "\n",
        "# The Output Layer\n",
        "NN_model.add(Dense(1, kernel_initializer='normal',activation='sigmoid'))\n",
        "\n",
        "\n",
        "# Compile the network\n",
        "\n",
        "# Change the learning rate of our model\n",
        "opt = keras.optimizers.Adam(learning_rate=0.0001)\n",
        "NN_model.compile(loss='mean_absolute_error', optimizer=opt, metrics=['mean_absolute_error'])\n",
        "NN_model.summary()\n"
      ],
      "id": "12cac42f"
    },
    {
      "cell_type": "markdown",
      "metadata": {
        "id": "mm81c-KLgYSr"
      },
      "source": [
        "### Fit the model to the data (Training phase)"
      ],
      "id": "mm81c-KLgYSr"
    },
    {
      "cell_type": "code",
      "execution_count": null,
      "metadata": {
        "id": "IYUecR_K0ZN4",
        "colab": {
          "base_uri": "https://localhost:8080/",
          "height": 1000
        },
        "outputId": "9ab53367-9617-4323-e2f0-d74346e02c8f"
      },
      "outputs": [
        {
          "output_type": "stream",
          "name": "stdout",
          "text": [
            "Epoch 1/20\n",
            "1328/1328 [==============================] - 4s 3ms/step - loss: 0.1299 - mean_absolute_error: 0.1299 - val_loss: 0.0275 - val_mean_absolute_error: 0.0275\n",
            "Epoch 2/20\n",
            "1328/1328 [==============================] - 3s 3ms/step - loss: 0.0131 - mean_absolute_error: 0.0131 - val_loss: 0.0090 - val_mean_absolute_error: 0.0090\n",
            "Epoch 3/20\n",
            "1328/1328 [==============================] - 3s 3ms/step - loss: 0.0087 - mean_absolute_error: 0.0087 - val_loss: 0.0063 - val_mean_absolute_error: 0.0063\n",
            "Epoch 4/20\n",
            "1328/1328 [==============================] - 3s 3ms/step - loss: 0.0081 - mean_absolute_error: 0.0081 - val_loss: 0.0058 - val_mean_absolute_error: 0.0058\n",
            "Epoch 5/20\n",
            "1328/1328 [==============================] - 3s 3ms/step - loss: 0.0060 - mean_absolute_error: 0.0060 - val_loss: 0.0057 - val_mean_absolute_error: 0.0057\n",
            "Epoch 6/20\n",
            "1328/1328 [==============================] - 3s 3ms/step - loss: 0.0052 - mean_absolute_error: 0.0052 - val_loss: 0.0055 - val_mean_absolute_error: 0.0055\n",
            "Epoch 7/20\n",
            "1328/1328 [==============================] - 3s 3ms/step - loss: 0.0051 - mean_absolute_error: 0.0051 - val_loss: 0.0054 - val_mean_absolute_error: 0.0054\n",
            "Epoch 8/20\n",
            "1328/1328 [==============================] - 3s 3ms/step - loss: 0.0051 - mean_absolute_error: 0.0051 - val_loss: 0.0053 - val_mean_absolute_error: 0.0053\n",
            "Epoch 9/20\n",
            "1328/1328 [==============================] - 3s 3ms/step - loss: 0.0051 - mean_absolute_error: 0.0051 - val_loss: 0.0053 - val_mean_absolute_error: 0.0053\n",
            "Epoch 10/20\n",
            "1328/1328 [==============================] - 6s 4ms/step - loss: 0.0051 - mean_absolute_error: 0.0051 - val_loss: 0.0053 - val_mean_absolute_error: 0.0053\n",
            "Epoch 11/20\n",
            "1328/1328 [==============================] - 3s 3ms/step - loss: 0.0051 - mean_absolute_error: 0.0051 - val_loss: 0.0053 - val_mean_absolute_error: 0.0053\n",
            "Epoch 12/20\n",
            "1328/1328 [==============================] - 3s 3ms/step - loss: 0.0050 - mean_absolute_error: 0.0050 - val_loss: 0.0053 - val_mean_absolute_error: 0.0053\n",
            "Epoch 13/20\n",
            "1328/1328 [==============================] - 3s 3ms/step - loss: 0.0049 - mean_absolute_error: 0.0049 - val_loss: 0.0053 - val_mean_absolute_error: 0.0053\n",
            "Epoch 14/20\n",
            "1328/1328 [==============================] - 3s 3ms/step - loss: 0.0049 - mean_absolute_error: 0.0049 - val_loss: 0.0053 - val_mean_absolute_error: 0.0053\n",
            "Epoch 15/20\n",
            "1328/1328 [==============================] - 3s 3ms/step - loss: 0.0049 - mean_absolute_error: 0.0049 - val_loss: 0.0053 - val_mean_absolute_error: 0.0053\n",
            "Epoch 16/20\n",
            "1328/1328 [==============================] - 3s 3ms/step - loss: 0.0049 - mean_absolute_error: 0.0049 - val_loss: 0.0053 - val_mean_absolute_error: 0.0053\n",
            "Epoch 17/20\n",
            "1328/1328 [==============================] - 3s 3ms/step - loss: 0.0049 - mean_absolute_error: 0.0049 - val_loss: 0.0053 - val_mean_absolute_error: 0.0053\n",
            "Epoch 18/20\n",
            "1328/1328 [==============================] - 3s 3ms/step - loss: 0.0049 - mean_absolute_error: 0.0049 - val_loss: 0.0053 - val_mean_absolute_error: 0.0053\n",
            "Epoch 19/20\n",
            "1328/1328 [==============================] - 3s 3ms/step - loss: 0.0049 - mean_absolute_error: 0.0049 - val_loss: 0.0053 - val_mean_absolute_error: 0.0053\n",
            "Epoch 20/20\n",
            "1328/1328 [==============================] - 3s 2ms/step - loss: 0.0049 - mean_absolute_error: 0.0049 - val_loss: 0.0053 - val_mean_absolute_error: 0.0053\n",
            "dict_keys(['loss', 'mean_absolute_error', 'val_loss', 'val_mean_absolute_error'])\n"
          ]
        },
        {
          "output_type": "display_data",
          "data": {
            "image/png": "[encoded data removed]",
            "text/plain": [
              "<Figure size 432x288 with 1 Axes>"
            ]
          },
          "metadata": {
            "needs_background": "light"
          }
        }
      ],
      "source": [
        "history=NN_model.fit(train_data_std_f, train_data['lightyield'].values, epochs=20, batch_size=32, validation_split = 0.5, shuffle=True,callbacks=EarlyStopping(patience=3))\n",
        "\n",
        "\n",
        "print(history.history.keys())\n",
        "\n",
        "# Summarize history for loss\n",
        "plt.plot(history.history['loss'])\n",
        "plt.plot(history.history['val_loss'])\n",
        "plt.title('model loss')\n",
        "plt.ylabel('loss')\n",
        "plt.xlabel('epoch')\n",
        "plt.legend(['train', 'test'], loc='upper right')\n",
        "#plt.yscale(\"log\")\n",
        "plt.show()\n"
      ],
      "id": "IYUecR_K0ZN4"
    },
    {
      "cell_type": "markdown",
      "metadata": {
        "id": "UCcOgPafgbnr"
      },
      "source": [
        "### Use the model to predict the light yield for the test data (Test phase)"
      ],
      "id": "UCcOgPafgbnr"
    },
    {
      "cell_type": "markdown",
      "metadata": {
        "id": "IYfNDo2ogm8_"
      },
      "source": [
        "### Evaluate the model: compare the model prediction to the real measurement"
      ],
      "id": "IYfNDo2ogm8_"
    },
    {
      "cell_type": "code",
      "execution_count": null,
      "metadata": {
        "id": "KjEtIbBJZiRI",
        "outputId": "3679c3a4-1d56-415e-9aa9-ee7a7bf337ec",
        "colab": {
          "base_uri": "https://localhost:8080/",
          "height": 366
        }
      },
      "outputs": [
        {
          "output_type": "stream",
          "name": "stdout",
          "text": [
            "1251/1251 [==============================] - 1s 995us/step\n",
            "\n",
            " mean:0.0006\n",
            " RMSE:0.0075\n",
            "\n"
          ]
        },
        {
          "output_type": "display_data",
          "data": {
            "image/png": "[encoded data removed]",
            "text/plain": [
              "<Figure size 432x288 with 1 Axes>"
            ]
          },
          "metadata": {
            "needs_background": "light"
          }
        }
      ],
      "source": [
        "# Histogram of ratio between real light yield values and predicted ones\n",
        "\n",
        "# Prediction\n",
        "y_pred = NN_model.predict(test_data_std_f, verbose=1)\n",
        "a=y_pred.T[0] # Transpomos o vetor com os valores previstos\n",
        "\n",
        "# Real Values\n",
        "b=test_data['lightyield'].T.values\n",
        "\n",
        "# Ratio between the two\n",
        "ratios=-(b-a)\n",
        "\n",
        "# Ratio Histogram\n",
        "fig, ax = plt.subplots()\n",
        "plt.hist(ratios, bins = 100, density = True)\n",
        "xmin, xmax = ax.get_xlim()\n",
        "\n",
        "plt.ylabel('events')\n",
        "plt.xlabel('Prediction Ratio')\n",
        "\n",
        "#plt.yscale(\"log\")\n",
        "\n",
        "print(f\"\\n mean:{ np.mean(ratios):.4f}\")\n",
        "print(f\" RMSE:{ np.std(ratios):.4f}\\n\")\n",
        "\n",
        "\n"
      ],
      "id": "KjEtIbBJZiRI"
    },
    {
      "cell_type": "markdown",
      "metadata": {
        "id": "H5A4vskfNT0U"
      },
      "source": [
        "## **Correlation matrix**\n",
        "In this step we develop a correlation matrix between the values.\n",
        "\n",
        "A correlation matrix is a table showing correlation coefficients between variables. Each cell in the table shows the correlation between two variables\n",
        "\n",
        "-1 indicates a perfectly negative linear correlation between two variables. \n",
        "\n",
        "0 indicates no linear correlation between two variables.\n",
        "\n",
        "1 indicates a perfectly positive linear correlation between two variables.\n",
        "\n"
      ],
      "id": "H5A4vskfNT0U"
    },
    {
      "cell_type": "code",
      "execution_count": null,
      "metadata": {
        "id": "9TnAGAlGN4gR",
        "colab": {
          "base_uri": "https://localhost:8080/",
          "height": 337
        },
        "outputId": "115c05dd-a1f4-4d22-bfa5-9da043918240"
      },
      "outputs": [
        {
          "output_type": "display_data",
          "data": {
            "image/png": "[encoded data removed]",
            "text/plain": [
              "<Figure size 432x288 with 2 Axes>"
            ]
          },
          "metadata": {
            "needs_background": "light"
          }
        }
      ],
      "source": [
        "# Correlation values of the whole measured data\n",
        "\n",
        "%matplotlib inline \n",
        "\n",
        "df = pd.DataFrame(data_clean)\n",
        "cmap = sn.diverging_palette(10, 120, as_cmap=True)\n",
        "covMatrix = pd.DataFrame.corr(df)\n",
        "sn.heatmap(covMatrix, annot=False, fmt='g',cmap=cmap,center=0.00)\n",
        "plt.title('Correlation matrix for the whole data')\n",
        "plt.show()\n"
      ],
      "id": "9TnAGAlGN4gR"
    },
    {
      "cell_type": "markdown",
      "metadata": {
        "id": "Vz_Wn-3PSBN7"
      },
      "source": [
        "# Set of pseudo-data where varying only the fibre length variables\n",
        "\n",
        "In this section we create 3 new dataset, where we vary only one collumn. The other collumns are set to it's mean value.\n",
        "\n",
        "*   lmaxfibre\n",
        "*   lminfibre\n",
        "*   dose\n",
        "\n",
        "**Caution**\n",
        "### We take in account that we should not change much of it's initial value compared to the initial dataset. This is due to the fact that the NN model is good at interpolating data and not at extrapolating scenarios\n",
        "\n",
        "\n"
      ],
      "id": "Vz_Wn-3PSBN7"
    },
    {
      "cell_type": "code",
      "execution_count": null,
      "metadata": {
        "id": "eUPr5afp5YX_"
      },
      "outputs": [],
      "source": [
        "# New dataset creation with fxed valued collumns with a random one\n",
        "# The goal is to study the light yield as a function of fiber length\n",
        "\n",
        "from numpy import random\n",
        "\n",
        "# We get the value from the cell A1\n",
        "A1CellData=data.loc[data['cell'] == 'A1']\n",
        "A1CellData=A1CellData.query('lightyield < 0.965') # & lightyield > 0.70' )\n",
        "\n",
        "\n",
        "# We copy A1's data to a new data set\n",
        "datablank=A1CellData.copy()\n",
        "\n",
        "# We use the mean of the columns has their immutable value\n",
        "for i in input_features:\n",
        "  mean = A1CellData[i].mean()\n",
        "  datablank[i]=A1CellData[i].apply(lambda x: mean)\n",
        "\n",
        "\n",
        "\n",
        "# Dataset with equal columns but random max fiber length value (200-214)\n",
        "\n",
        "maxfiber_dataset=datablank.copy()\n",
        "maxfiber_dataset[\"lmaxfibre\"]=maxfiber_dataset[\"lmaxfibre\"].apply(lambda x: random.rand()*15+200)\n",
        "\n",
        "# Dataset with equal columns but random max fiber length value (120-240)\n",
        "minfiber_dataset=datablank.copy()\n",
        "minfiber_dataset[\"lminfibre\"]=minfiber_dataset[\"lminfibre\"].apply(lambda x: random.rand()*10+190)\n",
        "\n",
        "# Dataset with equal columns but random ntiles\n",
        "ntiles_dataset=datablank.copy()\n",
        "ntiles_dataset[\"ntiles\"]=ntiles_dataset[\"ntiles\"].apply(lambda x: random.rand()*1+42.5)\n",
        "\n",
        "\n",
        "# Since the model was trained with normalized data we need to normalize these\n",
        "# datasets too\n",
        "minfiber_dataset=scaler.transform(minfiber_dataset[input_features].values)\n",
        "maxfiber_dataset=scaler.transform(maxfiber_dataset[input_features].values)\n",
        "ntiles_dataset=scaler.transform(ntiles_dataset[input_features].values)\n",
        "\n",
        "# We tranform them into a data frame and the column's label\n",
        "minfiber_dataset=pd.DataFrame(minfiber_dataset).set_axis(input_features, axis=1, inplace=False)\n",
        "maxfiber_dataset=pd.DataFrame(maxfiber_dataset).set_axis(input_features, axis=1, inplace=False)\n",
        "ntiles_dataset=pd.DataFrame(ntiles_dataset).set_axis(input_features, axis=1, inplace=False)\n",
        "\n"
      ],
      "id": "eUPr5afp5YX_"
    },
    {
      "cell_type": "code",
      "execution_count": null,
      "metadata": {
        "id": "-XrC2Zp3fohg"
      },
      "outputs": [],
      "source": [
        "# Model's predicted values for Light yield of our new datasets\n",
        "\n",
        "y_pred_min = NN_model.predict(minfiber_dataset[input_features].values)\n",
        "\n",
        "y_pred_max = NN_model.predict(maxfiber_dataset[input_features].values)\n",
        "\n",
        "y_pred_ntiles = NN_model.predict(ntiles_dataset[input_features].values)\n",
        "\n",
        "y_pred_doserate = NN_model.predict(ntiles_dataset[input_features].values)\n"
      ],
      "id": "-XrC2Zp3fohg"
    },
    {
      "cell_type": "code",
      "execution_count": null,
      "metadata": {
        "id": "IDgLw18cCD8R",
        "colab": {
          "base_uri": "https://localhost:8080/",
          "height": 851
        },
        "outputId": "a692f49e-786e-412e-93f2-569a8aa98d4d"
      },
      "outputs": [
        {
          "output_type": "display_data",
          "data": {
            "image/png": "[encoded data removed]",
            "text/plain": [
              "<Figure size 432x288 with 1 Axes>"
            ]
          },
          "metadata": {
            "needs_background": "light"
          }
        },
        {
          "output_type": "display_data",
          "data": {
            "image/png": "[encoded data removed]",
            "text/plain": [
              "<Figure size 432x288 with 1 Axes>"
            ]
          },
          "metadata": {
            "needs_background": "light"
          }
        },
        {
          "output_type": "display_data",
          "data": {
            "image/png": "[encoded data removed]",
            "text/plain": [
              "<Figure size 432x288 with 1 Axes>"
            ]
          },
          "metadata": {
            "needs_background": "light"
          }
        }
      ],
      "source": [
        "# Lights yield vs l min\n",
        "plt.title('Predicted Light Yield vs lminfibre')\n",
        "\n",
        "plt.scatter(minfiber_dataset[\"lminfibre\"],y_pred_min,s=1)\n",
        "#plt.title('Predicted Light Yield vs lminfibre')\n",
        "plt.xlabel(\"lminfibre\")\n",
        "plt.ylabel('Light Yield')\n",
        "plt.grid()\n",
        "plt.show()\n",
        "\n",
        "# Lights yield vs l max\n",
        "\n",
        "plt.scatter(maxfiber_dataset[\"lmaxfibre\"],y_pred_max,s=1)\n",
        "plt.title('Predicted Light Yield vs lmaxfibre')\n",
        "plt.xlabel(\"lmaxfibre\")\n",
        "plt.ylabel('Light Yield')\n",
        "plt.grid()\n",
        "plt.show()\n",
        "\n",
        "\n",
        "# Lights yield vs n_tiles\n",
        "\n",
        "plt.scatter(ntiles_dataset[\"ntiles\"],y_pred_ntiles,s=1)\n",
        "plt.title('Predicted Light Yield vs ntiles')\n",
        "plt.xlabel(\"ntiles\")\n",
        "plt.ylabel('Light Yield')\n",
        "plt.grid()\n",
        "plt.show()\n",
        "\n",
        "\n"
      ],
      "id": "IDgLw18cCD8R"
    },
    {
      "cell_type": "markdown",
      "metadata": {
        "id": "jwhLlvDjM1LO"
      },
      "source": [
        "#desnormalizar eixos xx do gráfico?"
      ],
      "id": "jwhLlvDjM1LO"
    },
    {
      "cell_type": "code",
      "execution_count": null,
      "metadata": {
        "id": "kub4bz4TNTcn",
        "colab": {
          "base_uri": "https://localhost:8080/",
          "height": 896
        },
        "outputId": "ac5c45f6-3067-4453-c692-f588bb28df4e"
      },
      "outputs": [
        {
          "output_type": "display_data",
          "data": {
            "image/png": "[encoded data removed]",
            "text/plain": [
              "<Figure size 432x288 with 1 Axes>"
            ]
          },
          "metadata": {
            "needs_background": "light"
          }
        },
        {
          "output_type": "display_data",
          "data": {
            "image/png": "[encoded data removed]",
            "text/plain": [
              "<Figure size 432x288 with 1 Axes>"
            ]
          },
          "metadata": {
            "needs_background": "light"
          }
        },
        {
          "output_type": "display_data",
          "data": {
            "image/png": "[encoded data removed]",
            "text/plain": [
              "<Figure size 432x288 with 1 Axes>"
            ]
          },
          "metadata": {
            "needs_background": "light"
          }
        }
      ],
      "source": [
        "\n",
        "\n",
        "x=minfiber_dataset[\"lminfibre\"]*np.std(data_clean['lminfibre'])+np.mean(data_clean['lminfibre'])\n",
        "plt.scatter(x,y_pred_min,s=1)\n",
        "plt.title('Predicted Light Yield vs lminfibre\\n')\n",
        "plt.xlabel(\"lminfibre\")\n",
        "plt.ylabel('Light Yield')\n",
        "plt.grid()\n",
        "plt.show()\n",
        "\n",
        "\n",
        "x=maxfiber_dataset[\"lmaxfibre\"]*np.std(data_clean['lmaxfibre'])+np.mean(data_clean['lmaxfibre'])\n",
        "plt.scatter(x,y_pred_max,s=1)\n",
        "plt.title('Predicted Light Yield vs lmaxfibre\\n')\n",
        "plt.xlabel(\"lmaxfibre\")\n",
        "plt.ylabel('Light Yield')\n",
        "plt.grid()\n",
        "plt.show()\n",
        "\n",
        "\n",
        "\n",
        "x=ntiles_dataset[\"ntiles\"]*np.std(data_clean['ntiles'])+np.mean(data_clean['ntiles'])\n",
        "plt.scatter(x,y_pred_ntiles,s=1)\n",
        "plt.title('Predicted Light Yield vs ntiles\\n')\n",
        "plt.xlabel(\"ntiles\")\n",
        "plt.ylabel('Light Yield')\n",
        "plt.grid()\n",
        "plt.show()\n"
      ],
      "id": "kub4bz4TNTcn"
    },
    {
      "cell_type": "markdown",
      "metadata": {
        "id": "v9OIEPDRpuij"
      },
      "source": [
        "#Auxiliar\n",
        "verificar em que medidas se encontram os parâmetros de uma celula"
      ],
      "id": "v9OIEPDRpuij"
    },
    {
      "cell_type": "code",
      "execution_count": null,
      "metadata": {
        "id": "nA79SB6kR-jN",
        "colab": {
          "base_uri": "https://localhost:8080/",
          "height": 1000
        },
        "outputId": "415f5c57-e8cb-431f-b2ce-aaf3629de252"
      },
      "outputs": [
        {
          "output_type": "display_data",
          "data": {
            "image/png": "[encoded data removed]",
            "text/plain": [
              "<Figure size 432x288 with 1 Axes>"
            ]
          },
          "metadata": {
            "needs_background": "light"
          }
        },
        {
          "output_type": "display_data",
          "data": {
            "image/png": "[encoded data removed]",
            "text/plain": [
              "<Figure size 432x288 with 1 Axes>"
            ]
          },
          "metadata": {
            "needs_background": "light"
          }
        },
        {
          "output_type": "display_data",
          "data": {
            "image/png": "[encoded data removed]",
            "text/plain": [
              "<Figure size 432x288 with 1 Axes>"
            ]
          },
          "metadata": {
            "needs_background": "light"
          }
        },
        {
          "output_type": "display_data",
          "data": {
            "image/png": "[encoded data removed]",
            "text/plain": [
              "<Figure size 432x288 with 1 Axes>"
            ]
          },
          "metadata": {
            "needs_background": "light"
          }
        },
        {
          "output_type": "display_data",
          "data": {
            "image/png": "[encoded data removed]",
            "text/plain": [
              "<Figure size 432x288 with 1 Axes>"
            ]
          },
          "metadata": {
            "needs_background": "light"
          }
        },
        {
          "output_type": "display_data",
          "data": {
            "image/png": "[encoded data removed]",
            "text/plain": [
              "<Figure size 432x288 with 1 Axes>"
            ]
          },
          "metadata": {
            "needs_background": "light"
          }
        },
        {
          "output_type": "display_data",
          "data": {
            "image/png": "[encoded data removed]",
            "text/plain": [
              "<Figure size 432x288 with 1 Axes>"
            ]
          },
          "metadata": {
            "needs_background": "light"
          }
        },
        {
          "output_type": "display_data",
          "data": {
            "image/png": "[encoded data removed]",
            "text/plain": [
              "<Figure size 432x288 with 1 Axes>"
            ]
          },
          "metadata": {
            "needs_background": "light"
          }
        },
        {
          "output_type": "display_data",
          "data": {
            "image/png": "[encoded data removed]",
            "text/plain": [
              "<Figure size 432x288 with 1 Axes>"
            ]
          },
          "metadata": {
            "needs_background": "light"
          }
        },
        {
          "output_type": "display_data",
          "data": {
            "image/png": "[encoded data removed]",
            "text/plain": [
              "<Figure size 432x288 with 1 Axes>"
            ]
          },
          "metadata": {
            "needs_background": "light"
          }
        },
        {
          "output_type": "display_data",
          "data": {
            "image/png": "[encoded data removed]",
            "text/plain": [
              "<Figure size 432x288 with 1 Axes>"
            ]
          },
          "metadata": {
            "needs_background": "light"
          }
        },
        {
          "output_type": "display_data",
          "data": {
            "image/png": "[encoded data removed]",
            "text/plain": [
              "<Figure size 432x288 with 1 Axes>"
            ]
          },
          "metadata": {
            "needs_background": "light"
          }
        },
        {
          "output_type": "display_data",
          "data": {
            "image/png": "[encoded data removed]",
            "text/plain": [
              "<Figure size 432x288 with 1 Axes>"
            ]
          },
          "metadata": {
            "needs_background": "light"
          }
        },
        {
          "output_type": "display_data",
          "data": {
            "image/png": "[encoded data removed]",
            "text/plain": [
              "<Figure size 432x288 with 1 Axes>"
            ]
          },
          "metadata": {
            "needs_background": "light"
          }
        },
        {
          "output_type": "display_data",
          "data": {
            "image/png": "[encoded data removed]",
            "text/plain": [
              "<Figure size 432x288 with 1 Axes>"
            ]
          },
          "metadata": {
            "needs_background": "light"
          }
        },
        {
          "output_type": "display_data",
          "data": {
            "image/png": "[encoded data removed]",
            "text/plain": [
              "<Figure size 432x288 with 1 Axes>"
            ]
          },
          "metadata": {
            "needs_background": "light"
          }
        }
      ],
      "source": [
        "\n",
        "A1CellData=data.loc[data['cell'] == 'A1']\n",
        "#A1CellData=A1CellData.query('lightyield < 0.97') # & lightyield > 0.70' )\n",
        "\n",
        "for feat in input_features+['lightyield']:\n",
        "    plt.hist(A1CellData[feat].values, 20, density=True, alpha=0.5, label='A1 data')\n",
        "    \n",
        "    #vamos fazer um histograma para todos os parâmetros de input + o lightyield que é a saída que procuramos\n",
        "    \n",
        "    plt.xlabel(feat)\n",
        "    plt.ylabel('Density \\(a.u\\)')\n",
        "    plt.legend()\n",
        "    plt.yscale(\"log\")\n",
        "    plt.show()\n"
      ],
      "id": "nA79SB6kR-jN"
    }
  ],
  "metadata": {
    "colab": {
      "collapsed_sections": [],
      "name": "Copy of TileAgeingDNNregression.ipynb",
      "provenance": []
    },
    "kernelspec": {
      "display_name": "Python 3",
      "language": "python",
      "name": "python3"
    },
    "language_info": {
      "codemirror_mode": {
        "name": "ipython",
        "version": 3
      },
      "file_extension": ".py",
      "mimetype": "text/x-python",
      "name": "python",
      "nbconvert_exporter": "python",
      "pygments_lexer": "ipython3",
      "version": "3.6.8"
    }
  },
  "nbformat": 4,
  "nbformat_minor": 5
}